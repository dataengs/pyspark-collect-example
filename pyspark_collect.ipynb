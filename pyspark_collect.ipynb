{
  "nbformat": 4,
  "nbformat_minor": 0,
  "metadata": {
    "colab": {
      "name": "pyspark-collect.ipynb",
      "provenance": [],
      "collapsed_sections": [],
      "authorship_tag": "ABX9TyML0BgpstKvqvYbYbhjAAhk",
      "include_colab_link": true
    },
    "kernelspec": {
      "name": "python3",
      "display_name": "Python 3"
    },
    "language_info": {
      "name": "python"
    }
  },
  "cells": [
    {
      "cell_type": "markdown",
      "metadata": {
        "id": "view-in-github",
        "colab_type": "text"
      },
      "source": [
        "<a href=\"https://colab.research.google.com/github/dataengs/pyspark-collect-exemple/blob/main/pyspark_collect.ipynb\" target=\"_parent\"><img src=\"https://colab.research.google.com/assets/colab-badge.svg\" alt=\"Open In Colab\"/></a>"
      ]
    },
    {
      "cell_type": "code",
      "execution_count": null,
      "metadata": {
        "id": "gYz-JEBuGg9E"
      },
      "outputs": [],
      "source": [
        "#pip install pyspark"
      ]
    },
    {
      "cell_type": "code",
      "source": [
        "#importa bibliotecas\n",
        "from pyspark.sql import SparkSession"
      ],
      "metadata": {
        "id": "yy02M5gLG-Rr"
      },
      "execution_count": null,
      "outputs": []
    },
    {
      "cell_type": "code",
      "source": [
        "#cria sessao spark\n",
        "spark = SparkSession.builder.appName('pyspark-collect').getOrCreate()"
      ],
      "metadata": {
        "id": "eczAWxseHB0P"
      },
      "execution_count": null,
      "outputs": []
    },
    {
      "cell_type": "code",
      "source": [
        "#cria uma lista de vendas\n",
        "dataset = [(\"Jose\", [\"Camisa\"] ,10, 202104),\n",
        "           (\"Marcos\", [\"Camisa\",\"Bermuda\",\"Jaqueta\"], 25, 202104),\n",
        "           (\"João\", [\"Sapato\", \"Bermuda\"], 17, 202104) \n",
        "          ]"
      ],
      "metadata": {
        "id": "0UxHmQm6HJCk"
      },
      "execution_count": null,
      "outputs": []
    },
    {
      "cell_type": "code",
      "source": [
        "#cria um schema manual para criar o dataframe\n",
        "columns = [\"nomeVendedor\",\"produto\",\"qtdVendas\",\"mesAnoVenda\"]"
      ],
      "metadata": {
        "id": "YYYZKQjtHRqk"
      },
      "execution_count": null,
      "outputs": []
    },
    {
      "cell_type": "code",
      "source": [
        "df = spark.createDataFrame(data=dataset, schema = columns)\n",
        "df.printSchema()\n",
        "df.show(truncate=False)"
      ],
      "metadata": {
        "colab": {
          "base_uri": "https://localhost:8080/"
        },
        "id": "4dih3FRQHpCO",
        "outputId": "f03d29a4-9180-405b-c16f-fc61693ecd3c"
      },
      "execution_count": null,
      "outputs": [
        {
          "output_type": "stream",
          "name": "stdout",
          "text": [
            "root\n",
            " |-- nomeVendedor: string (nullable = true)\n",
            " |-- produto: array (nullable = true)\n",
            " |    |-- element: string (containsNull = true)\n",
            " |-- qtdVendas: long (nullable = true)\n",
            " |-- mesAnoVenda: long (nullable = true)\n",
            "\n",
            "+------------+--------------------------+---------+-----------+\n",
            "|nomeVendedor|produto                   |qtdVendas|mesAnoVenda|\n",
            "+------------+--------------------------+---------+-----------+\n",
            "|Jose        |[Camisa]                  |10       |202104     |\n",
            "|Marcos      |[Camisa, Bermuda, Jaqueta]|25       |202104     |\n",
            "|João        |[Sapato, Bermuda]         |17       |202104     |\n",
            "+------------+--------------------------+---------+-----------+\n",
            "\n"
          ]
        }
      ]
    },
    {
      "cell_type": "code",
      "source": [
        "#Usando o collect()\n",
        "dataCollect = df.collect()"
      ],
      "metadata": {
        "id": "oFVqie4_HyTJ"
      },
      "execution_count": null,
      "outputs": []
    },
    {
      "cell_type": "code",
      "source": [
        "#Imprimindo o collect resultando em uma matriz\n",
        "print(dataCollect)"
      ],
      "metadata": {
        "colab": {
          "base_uri": "https://localhost:8080/"
        },
        "id": "0R2n5osDH2fO",
        "outputId": "ef7dc3aa-5c69-4ac8-e1c9-9c5da4c2046f"
      },
      "execution_count": null,
      "outputs": [
        {
          "output_type": "stream",
          "name": "stdout",
          "text": [
            "[Row(nomeVendedor='Jose', produto=['Camisa'], qtdVendas=10, mesAnoVenda=202104), Row(nomeVendedor='Marcos', produto=['Camisa', 'Bermuda', 'Jaqueta'], qtdVendas=25, mesAnoVenda=202104), Row(nomeVendedor='João', produto=['Sapato', 'Bermuda'], qtdVendas=17, mesAnoVenda=202104)]\n"
          ]
        }
      ]
    },
    {
      "cell_type": "code",
      "source": [
        "#Selecionando a coluna 'nomeVendedor' e recuperando o conjunto de dados usando o collect() para o nó driver\n",
        "dataCollect2 = df.select(\"nomeVendedor\").collect()\n",
        "print(dataCollect2)"
      ],
      "metadata": {
        "colab": {
          "base_uri": "https://localhost:8080/"
        },
        "id": "a-6xp1coH9Bu",
        "outputId": "08a30737-ecd5-40fb-ae5c-1218cde8955b"
      },
      "execution_count": null,
      "outputs": [
        {
          "output_type": "stream",
          "name": "stdout",
          "text": [
            "[Row(nomeVendedor='Jose'), Row(nomeVendedor='Marcos'), Row(nomeVendedor='João')]\n"
          ]
        }
      ]
    },
    {
      "cell_type": "code",
      "source": [
        "#Retorna o valor da segunda linha e da segunda coluna\n",
        "df.collect()[1][1]"
      ],
      "metadata": {
        "colab": {
          "base_uri": "https://localhost:8080/"
        },
        "id": "PXKiwJxbILhH",
        "outputId": "f23879ce-5aec-4f5e-fcd6-3bc31a21d3c9"
      },
      "execution_count": null,
      "outputs": [
        {
          "output_type": "execute_result",
          "data": {
            "text/plain": [
              "['Camisa', 'Bermuda', 'Jaqueta']"
            ]
          },
          "metadata": {},
          "execution_count": 16
        }
      ]
    },
    {
      "cell_type": "code",
      "source": [
        "#Usando um loop for para recuperar o nome do vendedor concatenado com a quantidade de vendas\n",
        "for row in dataCollect:\n",
        "    print(row['nomeVendedor'] + \",\" +str(row['qtdVendas']))"
      ],
      "metadata": {
        "colab": {
          "base_uri": "https://localhost:8080/"
        },
        "id": "am0MjM-JIDLX",
        "outputId": "1cc50cfd-334b-463a-c1df-ee71e2894a24"
      },
      "execution_count": null,
      "outputs": [
        {
          "output_type": "stream",
          "name": "stdout",
          "text": [
            "Jose,10\n",
            "Marcos,25\n",
            "João,17\n"
          ]
        }
      ]
    }
  ]
}